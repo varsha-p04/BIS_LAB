{
  "nbformat": 4,
  "nbformat_minor": 0,
  "metadata": {
    "colab": {
      "provenance": []
    },
    "kernelspec": {
      "name": "python3",
      "display_name": "Python 3"
    },
    "language_info": {
      "name": "python"
    }
  },
  "cells": [
    {
      "cell_type": "code",
      "execution_count": 1,
      "metadata": {
        "colab": {
          "base_uri": "https://localhost:8080/"
        },
        "id": "ez-MKcY8FFbg",
        "outputId": "5e0b1df6-68c1-4e5c-eb92-f26a0324f618"
      },
      "outputs": [
        {
          "output_type": "stream",
          "name": "stdout",
          "text": [
            "\n",
            "Best path found: [0, 3, 1, 2, 4, 0]\n",
            "Length of best path: 6.0\n"
          ]
        }
      ],
      "source": [
        "import numpy as np\n",
        "\n",
        "# Initialize distance matrix with integers\n",
        "dist_matrix = np.array([[0, 2, 2, 1, 1],\n",
        "                        [2, 0, 2, 1, 3],\n",
        "                        [2, 2, 0, 1, 1],\n",
        "                        [1, 1, 1, 0, 2],\n",
        "                        [1, 3, 1, 2, 0]])\n",
        "\n",
        "# Convert dist_matrix to float64 to prevent type mismatch when adding np.eye()\n",
        "dist_matrix = dist_matrix.astype(np.float64)\n",
        "\n",
        "# Add a small value to the diagonal to ensure no zero distances\n",
        "dist_matrix += np.eye(dist_matrix.shape[0])  # Set diagonal to a non-zero value\n",
        "\n",
        "# Initialize pheromone matrix with lower initial values\n",
        "pheromone = np.ones(dist_matrix.shape) * 0.1  # Starting with a smaller pheromone value\n",
        "\n",
        "# Parameters for the ACO (Ant Colony Optimization)\n",
        "num_ants = 5  # Number of ants\n",
        "iterations = 100  # Number of iterations\n",
        "alpha = 1.0  # Influence of pheromone\n",
        "beta = 2.0  # Influence of distance (heuristic information)\n",
        "evaporation_rate = 0.3  # Moderate evaporation rate to keep pheromones for a while\n",
        "Q = 10  # Moderate constant for pheromone update\n",
        "\n",
        "# Function to compute the probability of moving to a particular city\n",
        "def calculate_probability(ant_position, pheromone, dist_matrix, alpha, beta):\n",
        "    pheromone_values = pheromone[ant_position]\n",
        "    distance_values = dist_matrix[ant_position]\n",
        "    pheromone_factor = pheromone_values ** alpha\n",
        "    distance_factor = (1.0 / distance_values) ** beta\n",
        "    probability = pheromone_factor * distance_factor\n",
        "    probability /= probability.sum()  # Normalize to make sure the probabilities sum to 1\n",
        "    return probability\n",
        "\n",
        "# Function to update pheromones after each iteration\n",
        "def update_pheromones(pheromone, ants_paths, dist_matrix, evaporation_rate, Q):\n",
        "    pheromone *= (1 - evaporation_rate)  # Apply pheromone evaporation\n",
        "    for path in ants_paths:\n",
        "        # Update pheromone on all edges in the path (including returning to start)\n",
        "        for i in range(len(path) - 1):\n",
        "            pheromone[path[i], path[i + 1]] += Q / dist_matrix[path[i], path[i + 1]]\n",
        "        pheromone[path[-1], path[0]] += Q / dist_matrix[path[-1], path[0]]  # Add pheromone for returning to the start\n",
        "\n",
        "# ACO algorithm\n",
        "def ant_colony_optimization(dist_matrix, pheromone, num_ants, iterations, alpha, beta, evaporation_rate, Q):\n",
        "    best_path = None\n",
        "    best_path_length = float('inf')\n",
        "\n",
        "    for iteration in range(iterations):\n",
        "        ants_paths = []\n",
        "        for ant in range(num_ants):\n",
        "            path = [0]  # Start from the first city (0-indexed)\n",
        "            visited = set(path)\n",
        "            while len(path) < len(dist_matrix):\n",
        "                current_position = path[-1]\n",
        "                probability = calculate_probability(current_position, pheromone, dist_matrix, alpha, beta)\n",
        "\n",
        "                # Choose next city based on probabilities\n",
        "                next_city = np.random.choice(len(dist_matrix), p=probability)\n",
        "                if next_city not in visited:\n",
        "                    path.append(next_city)\n",
        "                    visited.add(next_city)\n",
        "\n",
        "            path.append(path[0])  # Ensure the ant returns to the starting city\n",
        "            ants_paths.append(path)\n",
        "\n",
        "        # Update pheromones after ants' paths are determined\n",
        "        update_pheromones(pheromone, ants_paths, dist_matrix, evaporation_rate, Q)\n",
        "\n",
        "        # Find the best path in the current iteration\n",
        "        for path in ants_paths:\n",
        "            path_length = sum(dist_matrix[path[i], path[i + 1]] for i in range(len(path) - 1))\n",
        "            if path_length < best_path_length:\n",
        "                best_path_length = path_length\n",
        "                best_path = path\n",
        "\n",
        "    return best_path, best_path_length\n",
        "\n",
        "# Run the ACO algorithm\n",
        "best_path, best_path_length = ant_colony_optimization(dist_matrix, pheromone, num_ants, iterations, alpha, beta, evaporation_rate, Q)\n",
        "\n",
        "# Output the final results\n",
        "print(f\"\\nBest path found: {best_path}\")\n",
        "print(f\"Length of best path: {best_path_length}\")\n"
      ]
    }
  ]
}