{
  "nbformat": 4,
  "nbformat_minor": 0,
  "metadata": {
    "colab": {
      "provenance": []
    },
    "kernelspec": {
      "name": "python3",
      "display_name": "Python 3"
    },
    "language_info": {
      "name": "python"
    }
  },
  "cells": [
    {
      "cell_type": "code",
      "execution_count": 1,
      "metadata": {
        "colab": {
          "base_uri": "https://localhost:8080/"
        },
        "id": "9Dv2p4WuFPXx",
        "outputId": "039e9f02-5a47-44b4-d072-e3d2e05b7a97"
      },
      "outputs": [
        {
          "output_type": "stream",
          "name": "stdout",
          "text": [
            "Best feature subset: [1 0 1 0]\n",
            "Best classification accuracy: 1.0\n"
          ]
        }
      ],
      "source": [
        "import numpy as np\n",
        "from sklearn.model_selection import train_test_split\n",
        "from sklearn.svm import SVC\n",
        "from sklearn.metrics import accuracy_score\n",
        "\n",
        "# Define the fitness function (classification accuracy)\n",
        "def fitness_function(features, X_train, y_train, X_test, y_test):\n",
        "    # Subset the features: Convert the binary array into the actual feature subset\n",
        "    X_train_subset = X_train[:, features.astype(bool)] if np.any(features) else X_train[:, :1]  # Default to 1 feature if no feature is selected\n",
        "    X_test_subset = X_test[:, features.astype(bool)] if np.any(features) else X_test[:, :1]\n",
        "\n",
        "    # Train a classifier (e.g., SVM)\n",
        "    clf = SVC()\n",
        "    clf.fit(X_train_subset, y_train)\n",
        "\n",
        "    # Make predictions and calculate accuracy\n",
        "    y_pred = clf.predict(X_test_subset)\n",
        "    accuracy = accuracy_score(y_test, y_pred)\n",
        "    return accuracy\n",
        "\n",
        "# Cuckoo Search Algorithm\n",
        "def cuckoo_search(X, y, num_nests=10, max_iter=100, pa=0.25):\n",
        "    n_features = X.shape[1]\n",
        "\n",
        "    # Initialize nests (random binary feature subsets)\n",
        "    nests = np.random.randint(2, size=(num_nests, n_features))\n",
        "\n",
        "    # Split data into train and test sets\n",
        "    X_train, X_test, y_train, y_test = train_test_split(X, y, test_size=0.3, random_state=42)\n",
        "\n",
        "    # Evaluate fitness of each nest\n",
        "    fitness = np.array([fitness_function(nest, X_train, y_train, X_test, y_test) for nest in nests])\n",
        "\n",
        "    # Best solution (initially the best nest)\n",
        "    best_nest = nests[np.argmax(fitness)]\n",
        "    best_fitness = np.max(fitness)\n",
        "\n",
        "    # Main Cuckoo Search Loop\n",
        "    for iteration in range(max_iter):\n",
        "        # Generate new solutions using Levy flight\n",
        "        new_nests = nests + np.random.normal(0, 1, nests.shape) * (best_nest - nests)\n",
        "        new_nests = np.clip(new_nests, 0, 1)  # Ensure binary values (0 or 1)\n",
        "\n",
        "        # Evaluate the fitness of the new nests\n",
        "        new_fitness = np.array([fitness_function(nest, X_train, y_train, X_test, y_test) for nest in new_nests])\n",
        "\n",
        "        # Select nests to replace (based on fitness)\n",
        "        replace_mask = new_fitness > fitness\n",
        "        nests[replace_mask] = new_nests[replace_mask]\n",
        "        fitness[replace_mask] = new_fitness[replace_mask]\n",
        "\n",
        "        # Abandon worst nests based on probability\n",
        "        abandon_mask = np.random.rand(num_nests) < pa\n",
        "        nests[abandon_mask] = np.random.randint(2, size=(np.sum(abandon_mask), n_features))\n",
        "\n",
        "        # Update the best solution\n",
        "        best_nest = nests[np.argmax(fitness)]\n",
        "        best_fitness = np.max(fitness)\n",
        "\n",
        "        # Print progress (optional)\n",
        "\n",
        "\n",
        "    return best_nest, best_fitness\n",
        "\n",
        "# Example usage\n",
        "if __name__ == \"__main__\":\n",
        "    # Load your dataset (e.g., Iris dataset)\n",
        "    from sklearn.datasets import load_iris\n",
        "    X, y = load_iris(return_X_y=True)\n",
        "\n",
        "    # Run Cuckoo Search for feature selection\n",
        "    best_features, best_accuracy = cuckoo_search(X, y, num_nests=10, max_iter=100)\n",
        "\n",
        "    print(\"Best feature subset:\", best_features)\n",
        "    print(\"Best classification accuracy:\", best_accuracy)\n"
      ]
    }
  ]
}